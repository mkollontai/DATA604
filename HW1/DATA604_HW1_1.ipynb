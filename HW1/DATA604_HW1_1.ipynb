{
 "cells": [
  {
   "cell_type": "markdown",
   "metadata": {},
   "source": [
    "DATA604 HomeWork1\n",
    "Falling Pennies"
   ]
  },
  {
   "cell_type": "code",
   "execution_count": 1,
   "metadata": {},
   "outputs": [],
   "source": [
    "try:\n",
    "    import pint\n",
    "except ImportError:\n",
    "    !pip install pint\n",
    "    import pint"
   ]
  },
  {
   "cell_type": "code",
   "execution_count": 2,
   "metadata": {},
   "outputs": [
    {
     "name": "stderr",
     "output_type": "stream",
     "text": [
      "C:\\Users\\Misha\\Anaconda3\\lib\\site-packages\\statsmodels\\tools\\_testing.py:19: FutureWarning: pandas.util.testing is deprecated. Use the functions in the public API at pandas.testing instead.\n",
      "  import pandas.util.testing as tm\n"
     ]
    }
   ],
   "source": [
    "try:\n",
    "    from modsim import *\n",
    "except ImportError:\n",
    "    !pip install modsimpy\n",
    "    from modsim import *\n",
    "np.random.seed(7)"
   ]
  },
  {
   "cell_type": "code",
   "execution_count": 3,
   "metadata": {},
   "outputs": [],
   "source": [
    "# Configure Jupyter so figures appear in the notebook\n",
    "%matplotlib inline\n",
    "\n",
    "# Configure Jupyter to display the assigned value after an assignment\n",
    "%config InteractiveShell.ast_node_interactivity='last_expr_or_assign'"
   ]
  },
  {
   "cell_type": "code",
   "execution_count": 4,
   "metadata": {},
   "outputs": [
    {
     "data": {
      "text/html": [
       "\\[10\\ foot\\]"
      ],
      "text/latex": [
       "$10\\ \\mathrm{foot}$"
      ],
      "text/plain": [
       "10 <Unit('foot')>"
      ]
     },
     "execution_count": 4,
     "metadata": {},
     "output_type": "execute_result"
    }
   ],
   "source": [
    "meter = UNITS.meter\n",
    "second = UNITS.second\n",
    "a = 9.8 * meter / second**2\n",
    "h = 381 * meter\n",
    "foot = UNITS.foot\n",
    "pole_height = 10 * foot"
   ]
  },
  {
   "cell_type": "markdown",
   "metadata": {},
   "source": [
    "What happens if you add h, which is in units of meters, to pole_height, which is in units of feet?"
   ]
  },
  {
   "cell_type": "code",
   "execution_count": 5,
   "metadata": {},
   "outputs": [
    {
     "data": {
      "text/html": [
       "\\[1260.0\\ foot\\]"
      ],
      "text/latex": [
       "$1260.0\\ \\mathrm{foot}$"
      ],
      "text/plain": [
       "1260.0 <Unit('foot')>"
      ]
     },
     "execution_count": 5,
     "metadata": {},
     "output_type": "execute_result"
    }
   ],
   "source": [
    "pole_height + h"
   ]
  },
  {
   "cell_type": "markdown",
   "metadata": {},
   "source": [
    "What happens if you write the addition the other way around?"
   ]
  },
  {
   "cell_type": "code",
   "execution_count": 6,
   "metadata": {},
   "outputs": [
    {
     "data": {
      "text/html": [
       "\\[384.048\\ meter\\]"
      ],
      "text/latex": [
       "$384.048\\ \\mathrm{meter}$"
      ],
      "text/plain": [
       "384.048 <Unit('meter')>"
      ]
     },
     "execution_count": 6,
     "metadata": {},
     "output_type": "execute_result"
    }
   ],
   "source": [
    "h + pole_height"
   ]
  },
  {
   "cell_type": "markdown",
   "metadata": {},
   "source": [
    "In reality, air resistance limits the velocity of the penny. At about 18 m/s, the force of air resistance equals the force of gravity and the penny stops accelerating.\n",
    "\n",
    "As a simplification, let's assume that the acceleration of the penny is a until the penny reaches 18 m/s, and then 0 afterwards. What is the total time for the penny to fall 381 m?"
   ]
  },
  {
   "cell_type": "code",
   "execution_count": 7,
   "metadata": {},
   "outputs": [
    {
     "data": {
      "text/html": [
       "\\[1.8367346938775508\\ second\\]"
      ],
      "text/latex": [
       "$1.8367346938775508\\ \\mathrm{second}$"
      ],
      "text/plain": [
       "1.8367346938775508 <Unit('second')>"
      ]
     },
     "execution_count": 7,
     "metadata": {},
     "output_type": "execute_result"
    }
   ],
   "source": [
    "'''How long until the penny reaches 18 m/s with constant acceleration a.'''\n",
    "term_vel = 18 * meter / second\n",
    "t_to_term = term_vel / a\n"
   ]
  },
  {
   "cell_type": "code",
   "execution_count": 8,
   "metadata": {},
   "outputs": [
    {
     "data": {
      "text/html": [
       "\\[16.530612244897956\\ meter\\]"
      ],
      "text/latex": [
       "$16.530612244897956\\ \\mathrm{meter}$"
      ],
      "text/plain": [
       "16.530612244897956 <Unit('meter')>"
      ]
     },
     "execution_count": 8,
     "metadata": {},
     "output_type": "execute_result"
    }
   ],
   "source": [
    "'''How far would the penny fall during that time?'''\n",
    "first_fall = a * t_to_term**2 / 2"
   ]
  },
  {
   "cell_type": "code",
   "execution_count": 9,
   "metadata": {},
   "outputs": [
    {
     "data": {
      "text/html": [
       "\\[367.51738775510205\\ meter\\]"
      ],
      "text/latex": [
       "$367.51738775510205\\ \\mathrm{meter}$"
      ],
      "text/plain": [
       "367.51738775510205 <Unit('meter')>"
      ]
     },
     "execution_count": 9,
     "metadata": {},
     "output_type": "execute_result"
    }
   ],
   "source": [
    "final_dist = h + pole_height - first_fall"
   ]
  },
  {
   "cell_type": "code",
   "execution_count": 10,
   "metadata": {},
   "outputs": [
    {
     "data": {
      "text/html": [
       "\\[20.417632653061226\\ second\\]"
      ],
      "text/latex": [
       "$20.417632653061226\\ \\mathrm{second}$"
      ],
      "text/plain": [
       "20.417632653061226 <Unit('second')>"
      ]
     },
     "execution_count": 10,
     "metadata": {},
     "output_type": "execute_result"
    }
   ],
   "source": [
    "'''How long to fall the remaining distance with constant velocity 18 m/s?'''\n",
    "final_t = final_dist / term_vel"
   ]
  },
  {
   "cell_type": "code",
   "execution_count": 11,
   "metadata": {},
   "outputs": [
    {
     "data": {
      "text/html": [
       "\\[22.25436734693878\\ second\\]"
      ],
      "text/latex": [
       "$22.25436734693878\\ \\mathrm{second}$"
      ],
      "text/plain": [
       "22.25436734693878 <Unit('second')>"
      ]
     },
     "execution_count": 11,
     "metadata": {},
     "output_type": "execute_result"
    }
   ],
   "source": [
    "Tot_t = t_to_term + final_t"
   ]
  }
 ],
 "metadata": {
  "kernelspec": {
   "display_name": "Python 3",
   "language": "python",
   "name": "python3"
  },
  "language_info": {
   "codemirror_mode": {
    "name": "ipython",
    "version": 3
   },
   "file_extension": ".py",
   "mimetype": "text/x-python",
   "name": "python",
   "nbconvert_exporter": "python",
   "pygments_lexer": "ipython3",
   "version": "3.7.4"
  }
 },
 "nbformat": 4,
 "nbformat_minor": 2
}
