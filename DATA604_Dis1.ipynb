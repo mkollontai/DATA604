{
 "cells": [
  {
   "cell_type": "code",
   "execution_count": 2,
   "metadata": {},
   "outputs": [
    {
     "name": "stdout",
     "output_type": "stream",
     "text": [
      "\n",
      "Under normal circumstances  327  out of 1000 succeed a moderately difficult task\n",
      "\n",
      "With disadvantage  83  out of 1000 succeed a moderately difficult task\n",
      "\n",
      "With advantage  530  out of 1000 succeed a moderately difficult task\n"
     ]
    }
   ],
   "source": [
    "\"\"\"\n",
    "Created on Tue Jun  2 19:11:55 2020\n",
    "\n",
    "@author: Misha\n",
    "\"\"\"\n",
    "\n",
    "\"\"\"\n",
    "Dungeons and Dragons is a role playing game built largely around \n",
    "the rolling of fair dice. The type of die depends on the action being taken \n",
    "and there are several nuances. For one, an additional modifier is at times \n",
    "applied to the roll. For another, there are two types of additional conditions\n",
    "that may be applied to a roll - 'advantage' and 'disadvantage'. \n",
    "\n",
    "Both of these conditions require that the player roll the die twice.\n",
    "For advantage they take the higher of the two rolls.\n",
    "For disadvantage they take the lower of the two. \n",
    "\n",
    "The most common type of die one rolls is a fair 20 sided die. The difficulty\n",
    "of a task determines how high a number the roll must \"beat\" in order to \n",
    "succeed. \n",
    "\n",
    "Let's take a look at the chances of succeeding at what is considered a \n",
    "\"moderate\" challenge (15) whether the player rolls normally, with \n",
    "advantage and with disadvantage. \n",
    "\"\"\"\n",
    "\n",
    "import random\n",
    "\n",
    "norm= []\n",
    "adv = []\n",
    "disadv = []\n",
    "\n",
    "def roll():\n",
    "    return(random.randint(1,20))\n",
    "    \n",
    "for x in range(0,1000):\n",
    "    norm.append(roll())\n",
    "    adv.append(max(roll(),roll()))\n",
    "    disadv.append(min(roll(),roll()))\n",
    "    \n",
    "\n",
    "def count_win(list):\n",
    "    return (sum(map(lambda x : x>=15, list)))\n",
    "    \n",
    "norm_win = count_win(norm)\n",
    "adv_win = count_win(adv)\n",
    "dis_win = count_win(disadv)\n",
    "\n",
    "print(\"\\nUnder normal circumstances \",norm_win, \" out of 1000 succeed a moderately difficult task\" )\n",
    "print(\"\\nWith disadvantage \",dis_win, \" out of 1000 succeed a moderately difficult task\" )\n",
    "print(\"\\nWith advantage \",adv_win, \" out of 1000 succeed a moderately difficult task\" )"
   ]
  },
  {
   "cell_type": "code",
   "execution_count": null,
   "metadata": {},
   "outputs": [],
   "source": []
  }
 ],
 "metadata": {
  "kernelspec": {
   "display_name": "Python 3",
   "language": "python",
   "name": "python3"
  },
  "language_info": {
   "codemirror_mode": {
    "name": "ipython",
    "version": 3
   },
   "file_extension": ".py",
   "mimetype": "text/x-python",
   "name": "python",
   "nbconvert_exporter": "python",
   "pygments_lexer": "ipython3",
   "version": "3.7.4"
  }
 },
 "nbformat": 4,
 "nbformat_minor": 2
}
